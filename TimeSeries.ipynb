{
  "nbformat": 4,
  "nbformat_minor": 0,
  "metadata": {
    "colab": {
      "provenance": [],
      "authorship_tag": "ABX9TyN+PSPGlm4FgT3v7M0t6Iti",
      "include_colab_link": true
    },
    "kernelspec": {
      "name": "python3",
      "display_name": "Python 3"
    },
    "language_info": {
      "name": "python"
    }
  },
  "cells": [
    {
      "cell_type": "markdown",
      "metadata": {
        "id": "view-in-github",
        "colab_type": "text"
      },
      "source": [
        "<a href=\"https://colab.research.google.com/github/guilhermelaviola/DataScienceAreaAndPopulation/blob/main/TimeSeries.ipynb\" target=\"_parent\"><img src=\"https://colab.research.google.com/assets/colab-badge.svg\" alt=\"Open In Colab\"/></a>"
      ]
    },
    {
      "cell_type": "code",
      "execution_count": null,
      "metadata": {
        "id": "FLAAUlX_S31Q"
      },
      "outputs": [],
      "source": [
        "# Importing all the necessary libraries:\n",
        "import pandas as pd"
      ]
    },
    {
      "cell_type": "code",
      "source": [
        "data = pd.read_csv('', index_col = 'Date', parse_dates = <strong>True</strong>)\n",
        "data.head()"
      ],
      "metadata": {
        "id": "UaF77RpqS_DM"
      },
      "execution_count": null,
      "outputs": []
    },
    {
      "cell_type": "code",
      "source": [
        "# Shortening the column numbers:\n",
        "data.columns = ['', '']"
      ],
      "metadata": {
        "id": "x-imEw_ZTTB6"
      },
      "execution_count": null,
      "outputs": []
    },
    {
      "cell_type": "code",
      "source": [
        "# Adding a 'Total' column:\n",
        "data[''] = data[''] + data['']\n",
        "data.head()"
      ],
      "metadata": {
        "id": "KtSRZYZbTf-D"
      },
      "execution_count": null,
      "outputs": []
    },
    {
      "cell_type": "code",
      "source": [
        "# Checking the summary statistics for this data:\n",
        "data.dropna().describe()"
      ],
      "metadata": {
        "id": "90I3QJBATtqj"
      },
      "execution_count": null,
      "outputs": []
    }
  ]
}