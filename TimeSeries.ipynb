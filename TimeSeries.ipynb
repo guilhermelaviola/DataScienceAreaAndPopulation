{
  "nbformat": 4,
  "nbformat_minor": 0,
  "metadata": {
    "colab": {
      "provenance": [],
      "authorship_tag": "ABX9TyNWZ86O48uiXLsJ0CdEJTOz",
      "include_colab_link": true
    },
    "kernelspec": {
      "name": "python3",
      "display_name": "Python 3"
    },
    "language_info": {
      "name": "python"
    }
  },
  "cells": [
    {
      "cell_type": "markdown",
      "metadata": {
        "id": "view-in-github",
        "colab_type": "text"
      },
      "source": [
        "<a href=\"https://colab.research.google.com/github/guilhermelaviola/DataScienceAreaAndPopulation/blob/main/TimeSeries.ipynb\" target=\"_parent\"><img src=\"https://colab.research.google.com/assets/colab-badge.svg\" alt=\"Open In Colab\"/></a>"
      ]
    },
    {
      "cell_type": "code",
      "execution_count": null,
      "metadata": {
        "id": "FLAAUlX_S31Q"
      },
      "outputs": [],
      "source": [
        "# Importing all the necessary libraries:\n",
        "import pandas as pd\n",
        "import matplotlib.pyplot as plt\n",
        "import seaborn\n",
        "import numpy as np"
      ]
    },
    {
      "cell_type": "code",
      "source": [
        "data = pd.read_csv('', index_col = 'Date', parse_dates = <strong>True</strong>)\n",
        "data.head()"
      ],
      "metadata": {
        "id": "UaF77RpqS_DM"
      },
      "execution_count": null,
      "outputs": []
    },
    {
      "cell_type": "code",
      "source": [
        "# Shortening the column numbers:\n",
        "data.columns = ['', '']"
      ],
      "metadata": {
        "id": "x-imEw_ZTTB6"
      },
      "execution_count": null,
      "outputs": []
    },
    {
      "cell_type": "code",
      "source": [
        "# Adding a 'Total' column:\n",
        "data[''] = data[''] + data['']\n",
        "data.head()"
      ],
      "metadata": {
        "id": "KtSRZYZbTf-D"
      },
      "execution_count": null,
      "outputs": []
    },
    {
      "cell_type": "code",
      "source": [
        "# Checking the summary statistics for this data:\n",
        "data.dropna().describe()"
      ],
      "metadata": {
        "id": "90I3QJBATtqj"
      },
      "execution_count": null,
      "outputs": []
    },
    {
      "cell_type": "code",
      "source": [
        "# Plotting the raw data:\n",
        "seaborn.set()\n",
        "data.plot()\n",
        "plt.ylabel('')\n",
        "plt.show()"
      ],
      "metadata": {
        "id": "ybiL8Zs2YIQW"
      },
      "execution_count": null,
      "outputs": []
    },
    {
      "cell_type": "code",
      "source": [
        "# Resampling the data to a coarser grid in order to gain more insight:\n",
        "weekly = data.resample('W').sum()\n",
        "weekly.plot(style = [':', '--', '-'])\n",
        "plt.ylabel('')\n",
        "plt.show()"
      ],
      "metadata": {
        "id": "NOQEU5wfYStW"
      },
      "execution_count": null,
      "outputs": []
    },
    {
      "cell_type": "code",
      "source": [
        "# Aggregating the data with rolling mean.\n",
        "# In this case, a 30-day rolling mean, making sure to center the window:\n",
        "daily = data.resample('D').sum()\n",
        "daily.rolling(30, center = True).sum().plot(style = [':', '--', '-'])\n",
        "plt.ylabel(\"mean hourly count\")\n",
        "plt.show"
      ],
      "metadata": {
        "id": "KiryFOX6Y18u"
      },
      "execution_count": null,
      "outputs": []
    },
    {
      "cell_type": "code",
      "source": [
        "# Getting a smoother version of a rolling mean using a window function.\n",
        "# For example, a Gaussian window:\n",
        "daily.rolling(50, center = True,\n",
        "              win_type = 'gaussian').sum(std = 10).plot(style = [':', '--', '-'])\n",
        "plt.show()"
      ],
      "metadata": {
        "id": "1SZX1V8da84u"
      },
      "execution_count": null,
      "outputs": []
    },
    {
      "cell_type": "code",
      "source": [
        "by_time = data.group_by(data.index.time).mean()\n",
        "hourly_ticks = 4 * 60 * 60 * np.arange(6)\n",
        "by_time_plot(xticks = hourly_ticks, style = [':', '--', '-'])\n",
        "plt.ylabel('Traffic according to time')\n",
        "plt.show()"
      ],
      "metadata": {
        "id": "UdAjzYeKb0GM"
      },
      "execution_count": null,
      "outputs": []
    }
  ]
}